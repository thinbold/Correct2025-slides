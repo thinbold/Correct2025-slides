{
 "cells": [
  {
   "cell_type": "markdown",
   "id": "32408761",
   "metadata": {
    "vscode": {
     "languageId": "plaintext"
    }
   },
   "source": [
    "# Finite Field in Computer"
   ]
  },
  {
   "cell_type": "code",
   "execution_count": 84,
   "id": "95dab87f",
   "metadata": {},
   "outputs": [
    {
     "data": {
      "text/plain": [
       "Finite Field in z4 of size 2^4"
      ]
     },
     "execution_count": 84,
     "metadata": {},
     "output_type": "execute_result"
    }
   ],
   "source": [
    "GF(16)"
   ]
  },
  {
   "cell_type": "code",
   "execution_count": 85,
   "id": "4ceaa8ec",
   "metadata": {},
   "outputs": [
    {
     "data": {
      "text/plain": [
       "[0,\n",
       " z4,\n",
       " z4^2,\n",
       " z4^3,\n",
       " z4 + 1,\n",
       " z4^2 + z4,\n",
       " z4^3 + z4^2,\n",
       " z4^3 + z4 + 1,\n",
       " z4^2 + 1,\n",
       " z4^3 + z4,\n",
       " z4^2 + z4 + 1,\n",
       " z4^3 + z4^2 + z4,\n",
       " z4^3 + z4^2 + z4 + 1,\n",
       " z4^3 + z4^2 + 1,\n",
       " z4^3 + 1,\n",
       " 1]"
      ]
     },
     "execution_count": 85,
     "metadata": {},
     "output_type": "execute_result"
    }
   ],
   "source": [
    "list(GF(16))"
   ]
  },
  {
   "cell_type": "code",
   "execution_count": 86,
   "id": "48469d1d",
   "metadata": {},
   "outputs": [
    {
     "data": {
      "text/plain": [
       "[0, 2, 4, 8, 3, 6, 12, 11, 5, 10, 7, 14, 15, 13, 9, 1]"
      ]
     },
     "execution_count": 86,
     "metadata": {},
     "output_type": "execute_result"
    }
   ],
   "source": [
    "list(GF(16, repr='int'))"
   ]
  },
  {
   "cell_type": "code",
   "execution_count": 87,
   "id": "817c328a",
   "metadata": {},
   "outputs": [
    {
     "data": {
      "text/plain": [
       "[0, 1, 2, 3, 4, 5, 6, 7, 8, 9, 10, 11, 12, 13, 14, 15]"
      ]
     },
     "execution_count": 87,
     "metadata": {},
     "output_type": "execute_result"
    }
   ],
   "source": [
    "list(GF(16, repr='log'))"
   ]
  },
  {
   "cell_type": "code",
   "execution_count": 88,
   "id": "2adcccd7",
   "metadata": {},
   "outputs": [
    {
     "data": {
      "text/plain": [
       "Finite Field in a of size 2^4"
      ]
     },
     "execution_count": 88,
     "metadata": {},
     "output_type": "execute_result"
    }
   ],
   "source": [
    "F = GF(16, name='a')\n",
    "F"
   ]
  },
  {
   "cell_type": "code",
   "execution_count": 89,
   "id": "c3546829",
   "metadata": {},
   "outputs": [
    {
     "data": {
      "text/plain": [
       "Finite Field in a of size 2^4"
      ]
     },
     "execution_count": 89,
     "metadata": {},
     "output_type": "execute_result"
    }
   ],
   "source": [
    "F.<a> = GF(16)\n",
    "F"
   ]
  },
  {
   "cell_type": "code",
   "execution_count": 90,
   "id": "8c828dd8",
   "metadata": {},
   "outputs": [
    {
     "data": {
      "text/plain": [
       "[0,\n",
       " a,\n",
       " a^2,\n",
       " a^3,\n",
       " a + 1,\n",
       " a^2 + a,\n",
       " a^3 + a^2,\n",
       " a^3 + a + 1,\n",
       " a^2 + 1,\n",
       " a^3 + a,\n",
       " a^2 + a + 1,\n",
       " a^3 + a^2 + a,\n",
       " a^3 + a^2 + a + 1,\n",
       " a^3 + a^2 + 1,\n",
       " a^3 + 1,\n",
       " 1]"
      ]
     },
     "execution_count": 90,
     "metadata": {},
     "output_type": "execute_result"
    }
   ],
   "source": [
    "list(F)"
   ]
  },
  {
   "cell_type": "code",
   "execution_count": 91,
   "id": "48f734a7",
   "metadata": {},
   "outputs": [
    {
     "data": {
      "text/plain": [
       "a^3 + a"
      ]
     },
     "execution_count": 91,
     "metadata": {},
     "output_type": "execute_result"
    }
   ],
   "source": [
    "(a + 1)^2 + (a + 1)^3"
   ]
  },
  {
   "cell_type": "code",
   "execution_count": 92,
   "id": "beb184b6",
   "metadata": {},
   "outputs": [
    {
     "data": {
      "text/plain": [
       "a + 1"
      ]
     },
     "execution_count": 92,
     "metadata": {},
     "output_type": "execute_result"
    }
   ],
   "source": [
    "a^4"
   ]
  },
  {
   "cell_type": "code",
   "execution_count": 93,
   "id": "fef814ed",
   "metadata": {},
   "outputs": [
    {
     "data": {
      "text/plain": [
       "x^4 + x + 1"
      ]
     },
     "execution_count": 93,
     "metadata": {},
     "output_type": "execute_result"
    }
   ],
   "source": [
    "a.charpoly()"
   ]
  },
  {
   "cell_type": "code",
   "execution_count": 94,
   "id": "9c0e93f0",
   "metadata": {},
   "outputs": [
    {
     "data": {
      "text/plain": [
       "0"
      ]
     },
     "execution_count": 94,
     "metadata": {},
     "output_type": "execute_result"
    }
   ],
   "source": [
    "a.charpoly()(x=a)"
   ]
  },
  {
   "cell_type": "markdown",
   "id": "12e9d494",
   "metadata": {},
   "source": [
    "## Polynomial ring"
   ]
  },
  {
   "cell_type": "code",
   "execution_count": 95,
   "id": "f745f917",
   "metadata": {},
   "outputs": [
    {
     "data": {
      "text/plain": [
       "Univariate Polynomial Ring in x over Finite Field in a of size 2^4"
      ]
     },
     "execution_count": 95,
     "metadata": {},
     "output_type": "execute_result"
    }
   ],
   "source": [
    "R = F['x']\n",
    "R"
   ]
  },
  {
   "cell_type": "code",
   "execution_count": 96,
   "id": "87e51f6f",
   "metadata": {},
   "outputs": [
    {
     "data": {
      "text/plain": [
       "Univariate Polynomial Ring in x over Finite Field in a of size 2^4"
      ]
     },
     "execution_count": 96,
     "metadata": {},
     "output_type": "execute_result"
    }
   ],
   "source": [
    "R.<x> = F[]\n",
    "R"
   ]
  },
  {
   "cell_type": "code",
   "execution_count": 97,
   "id": "8b26a299",
   "metadata": {},
   "outputs": [
    {
     "data": {
      "text/plain": [
       "x^11 + a*x^10 + a^2*x^9 + a^3*x^8 + (a^2 + 1)*x^3 + (a^3 + a)*x^2 + (a^2 + a + 1)*x + a^3 + a^2 + a"
      ]
     },
     "execution_count": 97,
     "metadata": {},
     "output_type": "execute_result"
    }
   ],
   "source": [
    "(a + x)^11"
   ]
  },
  {
   "cell_type": "markdown",
   "id": "67d16683",
   "metadata": {},
   "source": [
    "## Reed--Muller codes"
   ]
  },
  {
   "cell_type": "code",
   "execution_count": 98,
   "id": "ac5adec4",
   "metadata": {},
   "outputs": [
    {
     "data": {
      "text/plain": [
       "Multivariate Polynomial Ring in x, y, z over Finite Field of size 2"
      ]
     },
     "execution_count": 98,
     "metadata": {},
     "output_type": "execute_result"
    }
   ],
   "source": [
    "R.<x, y, z> = GF(2)[]\n",
    "R"
   ]
  },
  {
   "cell_type": "code",
   "execution_count": 99,
   "id": "d316c608",
   "metadata": {},
   "outputs": [
    {
     "data": {
      "text/plain": [
       "[[1, 1, 1, 1, 1, 1, 1, 1],\n",
       " [0, 1, 0, 1, 0, 1, 0, 1],\n",
       " [0, 0, 1, 1, 0, 0, 1, 1],\n",
       " [0, 0, 0, 0, 1, 1, 1, 1],\n",
       " [0, 0, 0, 1, 0, 0, 0, 1],\n",
       " [0, 0, 0, 0, 0, 0, 1, 1],\n",
       " [0, 0, 0, 0, 0, 1, 0, 1],\n",
       " [0, 0, 0, 0, 0, 0, 0, 1]]"
      ]
     },
     "execution_count": 99,
     "metadata": {},
     "output_type": "execute_result"
    }
   ],
   "source": [
    "G = [\n",
    "    [f(*p) for p in GF(2)^3]\n",
    "    for f in [x^0, x, y, z, x*y, y*z, z*x, x*y*z]\n",
    "]\n",
    "G\n"
   ]
  },
  {
   "cell_type": "code",
   "execution_count": 100,
   "id": "5493977a",
   "metadata": {},
   "outputs": [
    {
     "data": {
      "text/plain": [
       "(y*z, 0)"
      ]
     },
     "execution_count": 100,
     "metadata": {},
     "output_type": "execute_result"
    }
   ],
   "source": [
    "f = (x + y) * z\n",
    "f(x=0), f(x=1, y=1)"
   ]
  },
  {
   "cell_type": "code",
   "execution_count": 101,
   "id": "87befb94",
   "metadata": {},
   "outputs": [
    {
     "data": {
      "text/plain": [
       "Multivariate Polynomial Ring in a, b, c, d, e, f over Finite Field of size 2"
      ]
     },
     "execution_count": 101,
     "metadata": {},
     "output_type": "execute_result"
    }
   ],
   "source": [
    "R.<a, b, c, d, e, f> = GF(2)[]\n",
    "R"
   ]
  },
  {
   "cell_type": "code",
   "execution_count": 102,
   "id": "87a8652e",
   "metadata": {},
   "outputs": [
    {
     "data": {
      "text/plain": [
       "[1,\n",
       " a,\n",
       " b,\n",
       " a*b,\n",
       " c,\n",
       " a*c,\n",
       " b*c,\n",
       " d,\n",
       " a*d,\n",
       " b*d,\n",
       " c*d,\n",
       " e,\n",
       " a*e,\n",
       " b*e,\n",
       " c*e,\n",
       " d*e,\n",
       " f,\n",
       " a*f,\n",
       " b*f,\n",
       " c*f,\n",
       " d*f,\n",
       " e*f]"
      ]
     },
     "execution_count": 102,
     "metadata": {},
     "output_type": "execute_result"
    }
   ],
   "source": [
    "monomials = powerset(R.gens())\n",
    "monomials = [subset for subset in monomials if len(subset) < 3]\n",
    "monomials = [prod(subset) for subset in monomials]\n",
    "monomials"
   ]
  },
  {
   "cell_type": "code",
   "execution_count": 103,
   "id": "a45de31b",
   "metadata": {},
   "outputs": [
    {
     "name": "stdout",
     "output_type": "stream",
     "text": [
      "[1 1 1 1 1 1 1 1 1 1 1 1 1 1 1 1 1 1 1 1 1 1 1 1 1 1 1 1 1 1 1 1 1 1 1 1 1 1 1 1 1 1 1 1 1 1 1 1 1 1 1 1 1 1 1 1 1 1 1 1 1 1 1 1]\n",
      "[0 1 0 1 0 1 0 1 0 1 0 1 0 1 0 1 0 1 0 1 0 1 0 1 0 1 0 1 0 1 0 1 0 1 0 1 0 1 0 1 0 1 0 1 0 1 0 1 0 1 0 1 0 1 0 1 0 1 0 1 0 1 0 1]\n",
      "[0 0 1 1 0 0 1 1 0 0 1 1 0 0 1 1 0 0 1 1 0 0 1 1 0 0 1 1 0 0 1 1 0 0 1 1 0 0 1 1 0 0 1 1 0 0 1 1 0 0 1 1 0 0 1 1 0 0 1 1 0 0 1 1]\n",
      "[0 0 0 1 0 0 0 1 0 0 0 1 0 0 0 1 0 0 0 1 0 0 0 1 0 0 0 1 0 0 0 1 0 0 0 1 0 0 0 1 0 0 0 1 0 0 0 1 0 0 0 1 0 0 0 1 0 0 0 1 0 0 0 1]\n",
      "[0 0 0 0 1 1 1 1 0 0 0 0 1 1 1 1 0 0 0 0 1 1 1 1 0 0 0 0 1 1 1 1 0 0 0 0 1 1 1 1 0 0 0 0 1 1 1 1 0 0 0 0 1 1 1 1 0 0 0 0 1 1 1 1]\n",
      "[0 0 0 0 0 1 0 1 0 0 0 0 0 1 0 1 0 0 0 0 0 1 0 1 0 0 0 0 0 1 0 1 0 0 0 0 0 1 0 1 0 0 0 0 0 1 0 1 0 0 0 0 0 1 0 1 0 0 0 0 0 1 0 1]\n",
      "[0 0 0 0 0 0 1 1 0 0 0 0 0 0 1 1 0 0 0 0 0 0 1 1 0 0 0 0 0 0 1 1 0 0 0 0 0 0 1 1 0 0 0 0 0 0 1 1 0 0 0 0 0 0 1 1 0 0 0 0 0 0 1 1]\n",
      "[0 0 0 0 0 0 0 0 1 1 1 1 1 1 1 1 0 0 0 0 0 0 0 0 1 1 1 1 1 1 1 1 0 0 0 0 0 0 0 0 1 1 1 1 1 1 1 1 0 0 0 0 0 0 0 0 1 1 1 1 1 1 1 1]\n",
      "[0 0 0 0 0 0 0 0 0 1 0 1 0 1 0 1 0 0 0 0 0 0 0 0 0 1 0 1 0 1 0 1 0 0 0 0 0 0 0 0 0 1 0 1 0 1 0 1 0 0 0 0 0 0 0 0 0 1 0 1 0 1 0 1]\n",
      "[0 0 0 0 0 0 0 0 0 0 1 1 0 0 1 1 0 0 0 0 0 0 0 0 0 0 1 1 0 0 1 1 0 0 0 0 0 0 0 0 0 0 1 1 0 0 1 1 0 0 0 0 0 0 0 0 0 0 1 1 0 0 1 1]\n",
      "[0 0 0 0 0 0 0 0 0 0 0 0 1 1 1 1 0 0 0 0 0 0 0 0 0 0 0 0 1 1 1 1 0 0 0 0 0 0 0 0 0 0 0 0 1 1 1 1 0 0 0 0 0 0 0 0 0 0 0 0 1 1 1 1]\n",
      "[0 0 0 0 0 0 0 0 0 0 0 0 0 0 0 0 1 1 1 1 1 1 1 1 1 1 1 1 1 1 1 1 0 0 0 0 0 0 0 0 0 0 0 0 0 0 0 0 1 1 1 1 1 1 1 1 1 1 1 1 1 1 1 1]\n",
      "[0 0 0 0 0 0 0 0 0 0 0 0 0 0 0 0 0 1 0 1 0 1 0 1 0 1 0 1 0 1 0 1 0 0 0 0 0 0 0 0 0 0 0 0 0 0 0 0 0 1 0 1 0 1 0 1 0 1 0 1 0 1 0 1]\n",
      "[0 0 0 0 0 0 0 0 0 0 0 0 0 0 0 0 0 0 1 1 0 0 1 1 0 0 1 1 0 0 1 1 0 0 0 0 0 0 0 0 0 0 0 0 0 0 0 0 0 0 1 1 0 0 1 1 0 0 1 1 0 0 1 1]\n",
      "[0 0 0 0 0 0 0 0 0 0 0 0 0 0 0 0 0 0 0 0 1 1 1 1 0 0 0 0 1 1 1 1 0 0 0 0 0 0 0 0 0 0 0 0 0 0 0 0 0 0 0 0 1 1 1 1 0 0 0 0 1 1 1 1]\n",
      "[0 0 0 0 0 0 0 0 0 0 0 0 0 0 0 0 0 0 0 0 0 0 0 0 1 1 1 1 1 1 1 1 0 0 0 0 0 0 0 0 0 0 0 0 0 0 0 0 0 0 0 0 0 0 0 0 1 1 1 1 1 1 1 1]\n",
      "[0 0 0 0 0 0 0 0 0 0 0 0 0 0 0 0 0 0 0 0 0 0 0 0 0 0 0 0 0 0 0 0 1 1 1 1 1 1 1 1 1 1 1 1 1 1 1 1 1 1 1 1 1 1 1 1 1 1 1 1 1 1 1 1]\n",
      "[0 0 0 0 0 0 0 0 0 0 0 0 0 0 0 0 0 0 0 0 0 0 0 0 0 0 0 0 0 0 0 0 0 1 0 1 0 1 0 1 0 1 0 1 0 1 0 1 0 1 0 1 0 1 0 1 0 1 0 1 0 1 0 1]\n",
      "[0 0 0 0 0 0 0 0 0 0 0 0 0 0 0 0 0 0 0 0 0 0 0 0 0 0 0 0 0 0 0 0 0 0 1 1 0 0 1 1 0 0 1 1 0 0 1 1 0 0 1 1 0 0 1 1 0 0 1 1 0 0 1 1]\n",
      "[0 0 0 0 0 0 0 0 0 0 0 0 0 0 0 0 0 0 0 0 0 0 0 0 0 0 0 0 0 0 0 0 0 0 0 0 1 1 1 1 0 0 0 0 1 1 1 1 0 0 0 0 1 1 1 1 0 0 0 0 1 1 1 1]\n",
      "[0 0 0 0 0 0 0 0 0 0 0 0 0 0 0 0 0 0 0 0 0 0 0 0 0 0 0 0 0 0 0 0 0 0 0 0 0 0 0 0 1 1 1 1 1 1 1 1 0 0 0 0 0 0 0 0 1 1 1 1 1 1 1 1]\n",
      "[0 0 0 0 0 0 0 0 0 0 0 0 0 0 0 0 0 0 0 0 0 0 0 0 0 0 0 0 0 0 0 0 0 0 0 0 0 0 0 0 0 0 0 0 0 0 0 0 1 1 1 1 1 1 1 1 1 1 1 1 1 1 1 1]\n"
     ]
    }
   ],
   "source": [
    "G = [\n",
    "    [R(f)(*p) for p in GF(2)^6]\n",
    "    for f in monomials\n",
    "]\n",
    "print(matrix(G))"
   ]
  },
  {
   "cell_type": "markdown",
   "id": "c2ffc8ce",
   "metadata": {},
   "source": [
    "## Reed Solomon codes"
   ]
  },
  {
   "cell_type": "code",
   "execution_count": 105,
   "id": "ac028aa1",
   "metadata": {},
   "outputs": [
    {
     "data": {
      "text/plain": [
       "[1 1 1 1 1 1 1]\n",
       "[0 1 2 3 4 5 6]\n",
       "[0 1 4 2 2 4 1]"
      ]
     },
     "execution_count": 105,
     "metadata": {},
     "output_type": "execute_result"
    }
   ],
   "source": [
    "G = matrix([\n",
    "    [p^j for p in GF(7)]\n",
    "    for j in range(3)\n",
    "])\n",
    "G"
   ]
  },
  {
   "cell_type": "code",
   "execution_count": 107,
   "id": "d95952cc",
   "metadata": {},
   "outputs": [
    {
     "data": {
      "text/plain": [
       "Vector space of degree 7 and dimension 3 over Finite Field of size 7\n",
       "Basis matrix:\n",
       "[1 0 0 1 3 6 3]\n",
       "[0 1 0 4 6 6 4]\n",
       "[0 0 1 3 6 3 1]"
      ]
     },
     "execution_count": 107,
     "metadata": {},
     "output_type": "execute_result"
    }
   ],
   "source": [
    "span(G.rows())"
   ]
  },
  {
   "cell_type": "code",
   "execution_count": 111,
   "id": "e400a722",
   "metadata": {},
   "outputs": [
    {
     "name": "stdout",
     "output_type": "stream",
     "text": [
      "0 5 5 5 5 5 5 5 5 6 5 6 5 5 5 6 5 5 6 5 5 5 5 5 5 5 6 6 5 6 6 5 5 5 5 5 5 5 6 5 5 6 5 5 5 6 5 6 5 5 6 5 5 5 5 6 5 7 6 5 7 7 7 6 5 7 6 6 7 7 5 7 7 7 7 6 5 6 7 6 7 6 7 5 5 7 6 7 7 5 7 5 5 7 7 6 7 7 5 5 6 5 5 6 5 6 6 7 7 6 5 7 5 7 7 7 6 7 5 5 7 7 5 6 7 7 6 6 5 7 7 7 6 5 6 5 7 7 7 7 5 7 7 6 7 5 7 5 5 5 6 6 5 5 5 5 7 7 7 7 6 5 6 7 7 5 7 7 5 7 5 7 7 7 6 5 7 7 5 7 6 7 6 7 7 7 5 6 6 6 7 6 5 7 6 7 5 5 5 6 6 5 5 6 7 6 7 5 6 7 6 6 6 5 7 7 7 5 7 6 7 5 7 7 5 6 7 7 7 5 7 5 7 7 5 7 7 6 5 6 7 7 7 7 5 5 5 6 5 5 6 5 5 7 5 7 6 7 7 5 7 7 7 7 5 6 6 6 7 7 7 5 6 5 7 7 6 5 7 7 5 5 7 6 7 7 7 6 7 5 6 7 7 6 5 6 5 5 5 5 6 5 7 7 6 7 7 5 5 7 5 7 7 6 7 6 5 7 6 7 6 7 5 5 6 7 7 7 7 6 7 7 6 6 7 5 5 7 7 7 5 6 7 "
     ]
    }
   ],
   "source": [
    "for w in span(G.rows()):\n",
    "    print(w.hamming_weight(), end=' ')"
   ]
  },
  {
   "cell_type": "code",
   "execution_count": null,
   "id": "25ed44b7",
   "metadata": {},
   "outputs": [],
   "source": [
    "(x - y).hamming_weight()"
   ]
  },
  {
   "cell_type": "markdown",
   "id": "657fbfcd",
   "metadata": {},
   "source": [
    "## Cyclic code"
   ]
  },
  {
   "cell_type": "code",
   "execution_count": 113,
   "id": "6f29f521",
   "metadata": {},
   "outputs": [],
   "source": [
    "def shift7(w, s):\n",
    "    return w[s:] + w[:s]"
   ]
  },
  {
   "cell_type": "code",
   "execution_count": 117,
   "id": "7d0ed57d",
   "metadata": {},
   "outputs": [
    {
     "data": {
      "text/plain": [
       "[1 0 1 1 0 0 0]\n",
       "[0 1 1 0 0 0 1]\n",
       "[1 1 0 0 0 1 0]\n",
       "[1 0 0 0 1 0 1]\n",
       "[0 0 0 1 0 1 1]\n",
       "[0 0 1 0 1 1 0]\n",
       "[0 1 0 1 1 0 0]"
      ]
     },
     "execution_count": 117,
     "metadata": {},
     "output_type": "execute_result"
    }
   ],
   "source": [
    "G = matrix(GF(2), [\n",
    "    shift7([1, 0, 1, 1, 0, 0, 0], j) for j in range(7)\n",
    "])\n",
    "G"
   ]
  },
  {
   "cell_type": "code",
   "execution_count": 118,
   "id": "696e2c8d",
   "metadata": {},
   "outputs": [
    {
     "data": {
      "text/plain": [
       "4"
      ]
     },
     "execution_count": 118,
     "metadata": {},
     "output_type": "execute_result"
    }
   ],
   "source": [
    "G.rank()"
   ]
  },
  {
   "cell_type": "code",
   "execution_count": 119,
   "id": "048f8d99",
   "metadata": {},
   "outputs": [
    {
     "data": {
      "text/plain": [
       "[1 0 0 0 1 0 1]\n",
       "[0 1 0 0 1 1 1]\n",
       "[0 0 1 0 1 1 0]\n",
       "[0 0 0 1 0 1 1]\n",
       "[0 0 0 0 0 0 0]\n",
       "[0 0 0 0 0 0 0]\n",
       "[0 0 0 0 0 0 0]"
      ]
     },
     "execution_count": 119,
     "metadata": {},
     "output_type": "execute_result"
    }
   ],
   "source": [
    "G.rref()"
   ]
  },
  {
   "cell_type": "code",
   "execution_count": 132,
   "id": "05cb67cd",
   "metadata": {},
   "outputs": [
    {
     "data": {
      "text/plain": [
       "Univariate Polynomial Ring in x over Finite Field in a of size 2^3"
      ]
     },
     "execution_count": 132,
     "metadata": {},
     "output_type": "execute_result"
    }
   ],
   "source": [
    "R.<x> = GF(8, name='a', repr='log')[]\n",
    "R"
   ]
  },
  {
   "cell_type": "code",
   "execution_count": 133,
   "id": "0b85ea68",
   "metadata": {},
   "outputs": [
    {
     "data": {
      "text/plain": [
       "7*x^3 + 7*x^2 + 7"
      ]
     },
     "execution_count": 133,
     "metadata": {},
     "output_type": "execute_result"
    }
   ],
   "source": [
    "f = 1 + x^2 + x^3\n",
    "f"
   ]
  },
  {
   "cell_type": "code",
   "execution_count": 134,
   "id": "de43104d",
   "metadata": {},
   "outputs": [
    {
     "data": {
      "text/plain": [
       "[(3, 1), (6, 1), (5, 1)]"
      ]
     },
     "execution_count": 134,
     "metadata": {},
     "output_type": "execute_result"
    }
   ],
   "source": [
    "f.roots()"
   ]
  },
  {
   "cell_type": "code",
   "execution_count": 138,
   "id": "a2437dad",
   "metadata": {},
   "outputs": [
    {
     "name": "stdout",
     "output_type": "stream",
     "text": [
      "0 3 4 3 3 4 3 4 3 4 3 4 4 3 4 7 "
     ]
    }
   ],
   "source": [
    "for w in span(G.rows()):\n",
    "    print(w.hamming_weight(), end=' ')"
   ]
  },
  {
   "cell_type": "code",
   "execution_count": 141,
   "id": "b900de52",
   "metadata": {},
   "outputs": [
    {
     "data": {
      "text/plain": [
       "7*x^3 + 7*x^2 + 7"
      ]
     },
     "execution_count": 141,
     "metadata": {},
     "output_type": "execute_result"
    }
   ],
   "source": [
    "gcd(f, x^7 - 1)"
   ]
  },
  {
   "cell_type": "code",
   "execution_count": 142,
   "id": "5c8b5d53",
   "metadata": {},
   "outputs": [
    {
     "data": {
      "text/plain": [
       "True"
      ]
     },
     "execution_count": 142,
     "metadata": {},
     "output_type": "execute_result"
    }
   ],
   "source": [
    "gcd(f, x^7 - 1) == f"
   ]
  },
  {
   "cell_type": "code",
   "execution_count": 146,
   "id": "18fc3205",
   "metadata": {},
   "outputs": [
    {
     "data": {
      "text/plain": [
       "0"
      ]
     },
     "execution_count": 146,
     "metadata": {},
     "output_type": "execute_result"
    }
   ],
   "source": [
    "(x^7 - 1) % f"
   ]
  },
  {
   "cell_type": "code",
   "execution_count": null,
   "id": "a78ba6d2",
   "metadata": {},
   "outputs": [],
   "source": []
  }
 ],
 "metadata": {
  "kernelspec": {
   "display_name": "SageMath 10.6",
   "language": "sage",
   "name": "SageMath-10.6"
  },
  "language_info": {
   "codemirror_mode": {
    "name": "ipython",
    "version": 3
   },
   "file_extension": ".py",
   "mimetype": "text/x-python",
   "name": "python",
   "nbconvert_exporter": "python",
   "pygments_lexer": "ipython3",
   "version": "3.12.5"
  }
 },
 "nbformat": 4,
 "nbformat_minor": 5
}
