{
 "cells": [
  {
   "cell_type": "code",
   "execution_count": 7,
   "id": "e0f128c4",
   "metadata": {
    "vscode": {
     "languageId": "python"
    }
   },
   "outputs": [],
   "source": [
    "_.<x> = GF(2)[]"
   ]
  },
  {
   "cell_type": "code",
   "execution_count": 41,
   "id": "1bdb5836",
   "metadata": {
    "vscode": {
     "languageId": "python"
    }
   },
   "outputs": [],
   "source": [
    "F.<a> = GF(256, modulus=x^8 + x^6 + x^5 + x^4 + 1)\n",
    "# F.<a> = GF(256, modulus=x^8 + x^4 + x^3 + x + 1)"
   ]
  },
  {
   "cell_type": "code",
   "execution_count": 42,
   "id": "e08bc2ee",
   "metadata": {
    "vscode": {
     "languageId": "python"
    }
   },
   "outputs": [
    {
     "data": {
      "text/plain": [
       "255"
      ]
     },
     "execution_count": 42,
     "metadata": {},
     "output_type": "execute_result"
    }
   ],
   "source": [
    "a.multiplicative_order()"
   ]
  },
  {
   "cell_type": "code",
   "execution_count": 45,
   "id": "bb37dbfa",
   "metadata": {
    "vscode": {
     "languageId": "python"
    }
   },
   "outputs": [
    {
     "name": "stdout",
     "output_type": "stream",
     "text": [
      "254\n"
     ]
    }
   ],
   "source": [
    "for j in range(255):\n",
    "    if a^10 + a^20 == a^j:\n",
    "        print(j)"
   ]
  },
  {
   "cell_type": "code",
   "execution_count": 47,
   "id": "861700a8",
   "metadata": {
    "vscode": {
     "languageId": "python"
    }
   },
   "outputs": [
    {
     "name": "stdout",
     "output_type": "stream",
     "text": [
      "249\n"
     ]
    }
   ],
   "source": [
    "for j in range(255):\n",
    "    if a^30 + a^60 == a^j:\n",
    "        print(j)"
   ]
  },
  {
   "cell_type": "code",
   "execution_count": 48,
   "id": "4bb1891d",
   "metadata": {
    "vscode": {
     "languageId": "python"
    }
   },
   "outputs": [
    {
     "data": {
      "text/plain": [
       "True"
      ]
     },
     "execution_count": 48,
     "metadata": {},
     "output_type": "execute_result"
    }
   ],
   "source": [
    "a^254 == a^-1"
   ]
  },
  {
   "cell_type": "code",
   "execution_count": 49,
   "id": "0c3b5f07",
   "metadata": {
    "vscode": {
     "languageId": "python"
    }
   },
   "outputs": [
    {
     "data": {
      "text/plain": [
       "True"
      ]
     },
     "execution_count": 49,
     "metadata": {},
     "output_type": "execute_result"
    }
   ],
   "source": [
    "a^249 == a^-6"
   ]
  },
  {
   "cell_type": "code",
   "execution_count": null,
   "id": "93772a1d",
   "metadata": {
    "vscode": {
     "languageId": "python"
    }
   },
   "outputs": [],
   "source": []
  },
  {
   "cell_type": "code",
   "execution_count": null,
   "id": "aa6cf4d8",
   "metadata": {
    "vscode": {
     "languageId": "python"
    }
   },
   "outputs": [],
   "source": []
  }
 ],
 "metadata": {
  "kernelspec": {
   "display_name": "SageMath 10.6",
   "language": "sage",
   "name": "SageMath-10.6"
  },
  "language_info": {
   "codemirror_mode": {
    "name": "ipython",
    "version": 3
   },
   "file_extension": ".py",
   "mimetype": "text/x-python",
   "name": "sage",
   "nbconvert_exporter": "python",
   "pygments_lexer": "ipython3",
   "version": "3.12.5"
  }
 },
 "nbformat": 4,
 "nbformat_minor": 5
}
